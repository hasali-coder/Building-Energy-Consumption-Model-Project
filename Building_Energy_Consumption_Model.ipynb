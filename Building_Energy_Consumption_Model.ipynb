{
  "nbformat": 4,
  "nbformat_minor": 0,
  "metadata": {
    "colab": {
      "provenance": []
    },
    "kernelspec": {
      "name": "python3",
      "display_name": "Python 3"
    },
    "language_info": {
      "name": "python"
    }
  },
  "cells": [
    {
      "cell_type": "markdown",
      "source": [
        "# Data Preprocessing\n",
        "**Objectives**:</br>\n",
        "\n",
        "\n",
        "*   Load the dataset from the CSV file.\n",
        "*   Check for missing values and outliers in the data.\n",
        "\n"
      ],
      "metadata": {
        "id": "MHqz5qdxAsia"
      }
    },
    {
      "cell_type": "code",
      "execution_count": null,
      "metadata": {
        "id": "5UUE_eKjAAxm"
      },
      "outputs": [],
      "source": [
        "#importing necssary libraries\n",
        "import pandas as pd\n",
        "import matplotlib.pyplot as plt\n",
        "import plotly.express as px\n",
        "import seaborn as sns\n",
        "import numpy as np"
      ]
    },
    {
      "cell_type": "code",
      "source": [
        "#reading the dataset\n",
        "df = pd.read_csv(\"/content/Dataset.csv\")\n",
        "\n",
        "#displaying first firve rows of the dataset (df)\n",
        "df.head()"
      ],
      "metadata": {
        "colab": {
          "base_uri": "https://localhost:8080/",
          "height": 223
        },
        "id": "xvpVrMdvAXz0",
        "outputId": "56e89786-9d1c-4595-fb8d-95100d62fb5f"
      },
      "execution_count": null,
      "outputs": [
        {
          "output_type": "execute_result",
          "data": {
            "text/plain": [
              "   Room Area (sq. ft.)  Number of Appliances  Outside Temperature (C)  \\\n",
              "0                  270                    15                       30   \n",
              "1                  273                    20                       28   \n",
              "2                  276                    18                       26   \n",
              "3                  276                    12                       32   \n",
              "4                  276                    22                       20   \n",
              "\n",
              "   Insulation Thickness (inches) Building Type  HVAC System  \\\n",
              "0                            2.0   Residential   Central AC   \n",
              "1                            1.5    Commercial     Split AC   \n",
              "2                            1.8   Residential    Window AC   \n",
              "3                            2.5   Residential   Central AC   \n",
              "4                            1.2    Commercial     Split AC   \n",
              "\n",
              "   Average Temperature in last 24 hours (C)  Energy Consumption (kWh)  \n",
              "0                                        28                       380  \n",
              "1                                        26                       420  \n",
              "2                                        24                       390  \n",
              "3                                        32                       320  \n",
              "4                                        18                       480  "
            ],
            "text/html": [
              "\n",
              "  <div id=\"df-6bb3b726-7850-4140-9a4c-a6fdf35385dd\" class=\"colab-df-container\">\n",
              "    <div>\n",
              "<style scoped>\n",
              "    .dataframe tbody tr th:only-of-type {\n",
              "        vertical-align: middle;\n",
              "    }\n",
              "\n",
              "    .dataframe tbody tr th {\n",
              "        vertical-align: top;\n",
              "    }\n",
              "\n",
              "    .dataframe thead th {\n",
              "        text-align: right;\n",
              "    }\n",
              "</style>\n",
              "<table border=\"1\" class=\"dataframe\">\n",
              "  <thead>\n",
              "    <tr style=\"text-align: right;\">\n",
              "      <th></th>\n",
              "      <th>Room Area (sq. ft.)</th>\n",
              "      <th>Number of Appliances</th>\n",
              "      <th>Outside Temperature (C)</th>\n",
              "      <th>Insulation Thickness (inches)</th>\n",
              "      <th>Building Type</th>\n",
              "      <th>HVAC System</th>\n",
              "      <th>Average Temperature in last 24 hours (C)</th>\n",
              "      <th>Energy Consumption (kWh)</th>\n",
              "    </tr>\n",
              "  </thead>\n",
              "  <tbody>\n",
              "    <tr>\n",
              "      <th>0</th>\n",
              "      <td>270</td>\n",
              "      <td>15</td>\n",
              "      <td>30</td>\n",
              "      <td>2.0</td>\n",
              "      <td>Residential</td>\n",
              "      <td>Central AC</td>\n",
              "      <td>28</td>\n",
              "      <td>380</td>\n",
              "    </tr>\n",
              "    <tr>\n",
              "      <th>1</th>\n",
              "      <td>273</td>\n",
              "      <td>20</td>\n",
              "      <td>28</td>\n",
              "      <td>1.5</td>\n",
              "      <td>Commercial</td>\n",
              "      <td>Split AC</td>\n",
              "      <td>26</td>\n",
              "      <td>420</td>\n",
              "    </tr>\n",
              "    <tr>\n",
              "      <th>2</th>\n",
              "      <td>276</td>\n",
              "      <td>18</td>\n",
              "      <td>26</td>\n",
              "      <td>1.8</td>\n",
              "      <td>Residential</td>\n",
              "      <td>Window AC</td>\n",
              "      <td>24</td>\n",
              "      <td>390</td>\n",
              "    </tr>\n",
              "    <tr>\n",
              "      <th>3</th>\n",
              "      <td>276</td>\n",
              "      <td>12</td>\n",
              "      <td>32</td>\n",
              "      <td>2.5</td>\n",
              "      <td>Residential</td>\n",
              "      <td>Central AC</td>\n",
              "      <td>32</td>\n",
              "      <td>320</td>\n",
              "    </tr>\n",
              "    <tr>\n",
              "      <th>4</th>\n",
              "      <td>276</td>\n",
              "      <td>22</td>\n",
              "      <td>20</td>\n",
              "      <td>1.2</td>\n",
              "      <td>Commercial</td>\n",
              "      <td>Split AC</td>\n",
              "      <td>18</td>\n",
              "      <td>480</td>\n",
              "    </tr>\n",
              "  </tbody>\n",
              "</table>\n",
              "</div>\n",
              "    <div class=\"colab-df-buttons\">\n",
              "\n",
              "  <div class=\"colab-df-container\">\n",
              "    <button class=\"colab-df-convert\" onclick=\"convertToInteractive('df-6bb3b726-7850-4140-9a4c-a6fdf35385dd')\"\n",
              "            title=\"Convert this dataframe to an interactive table.\"\n",
              "            style=\"display:none;\">\n",
              "\n",
              "  <svg xmlns=\"http://www.w3.org/2000/svg\" height=\"24px\" viewBox=\"0 -960 960 960\">\n",
              "    <path d=\"M120-120v-720h720v720H120Zm60-500h600v-160H180v160Zm220 220h160v-160H400v160Zm0 220h160v-160H400v160ZM180-400h160v-160H180v160Zm440 0h160v-160H620v160ZM180-180h160v-160H180v160Zm440 0h160v-160H620v160Z\"/>\n",
              "  </svg>\n",
              "    </button>\n",
              "\n",
              "  <style>\n",
              "    .colab-df-container {\n",
              "      display:flex;\n",
              "      gap: 12px;\n",
              "    }\n",
              "\n",
              "    .colab-df-convert {\n",
              "      background-color: #E8F0FE;\n",
              "      border: none;\n",
              "      border-radius: 50%;\n",
              "      cursor: pointer;\n",
              "      display: none;\n",
              "      fill: #1967D2;\n",
              "      height: 32px;\n",
              "      padding: 0 0 0 0;\n",
              "      width: 32px;\n",
              "    }\n",
              "\n",
              "    .colab-df-convert:hover {\n",
              "      background-color: #E2EBFA;\n",
              "      box-shadow: 0px 1px 2px rgba(60, 64, 67, 0.3), 0px 1px 3px 1px rgba(60, 64, 67, 0.15);\n",
              "      fill: #174EA6;\n",
              "    }\n",
              "\n",
              "    .colab-df-buttons div {\n",
              "      margin-bottom: 4px;\n",
              "    }\n",
              "\n",
              "    [theme=dark] .colab-df-convert {\n",
              "      background-color: #3B4455;\n",
              "      fill: #D2E3FC;\n",
              "    }\n",
              "\n",
              "    [theme=dark] .colab-df-convert:hover {\n",
              "      background-color: #434B5C;\n",
              "      box-shadow: 0px 1px 3px 1px rgba(0, 0, 0, 0.15);\n",
              "      filter: drop-shadow(0px 1px 2px rgba(0, 0, 0, 0.3));\n",
              "      fill: #FFFFFF;\n",
              "    }\n",
              "  </style>\n",
              "\n",
              "    <script>\n",
              "      const buttonEl =\n",
              "        document.querySelector('#df-6bb3b726-7850-4140-9a4c-a6fdf35385dd button.colab-df-convert');\n",
              "      buttonEl.style.display =\n",
              "        google.colab.kernel.accessAllowed ? 'block' : 'none';\n",
              "\n",
              "      async function convertToInteractive(key) {\n",
              "        const element = document.querySelector('#df-6bb3b726-7850-4140-9a4c-a6fdf35385dd');\n",
              "        const dataTable =\n",
              "          await google.colab.kernel.invokeFunction('convertToInteractive',\n",
              "                                                    [key], {});\n",
              "        if (!dataTable) return;\n",
              "\n",
              "        const docLinkHtml = 'Like what you see? Visit the ' +\n",
              "          '<a target=\"_blank\" href=https://colab.research.google.com/notebooks/data_table.ipynb>data table notebook</a>'\n",
              "          + ' to learn more about interactive tables.';\n",
              "        element.innerHTML = '';\n",
              "        dataTable['output_type'] = 'display_data';\n",
              "        await google.colab.output.renderOutput(dataTable, element);\n",
              "        const docLink = document.createElement('div');\n",
              "        docLink.innerHTML = docLinkHtml;\n",
              "        element.appendChild(docLink);\n",
              "      }\n",
              "    </script>\n",
              "  </div>\n",
              "\n",
              "\n",
              "<div id=\"df-0cb15031-c321-4871-b9f5-03cbcfc1640a\">\n",
              "  <button class=\"colab-df-quickchart\" onclick=\"quickchart('df-0cb15031-c321-4871-b9f5-03cbcfc1640a')\"\n",
              "            title=\"Suggest charts.\"\n",
              "            style=\"display:none;\">\n",
              "\n",
              "<svg xmlns=\"http://www.w3.org/2000/svg\" height=\"24px\"viewBox=\"0 0 24 24\"\n",
              "     width=\"24px\">\n",
              "    <g>\n",
              "        <path d=\"M19 3H5c-1.1 0-2 .9-2 2v14c0 1.1.9 2 2 2h14c1.1 0 2-.9 2-2V5c0-1.1-.9-2-2-2zM9 17H7v-7h2v7zm4 0h-2V7h2v10zm4 0h-2v-4h2v4z\"/>\n",
              "    </g>\n",
              "</svg>\n",
              "  </button>\n",
              "\n",
              "<style>\n",
              "  .colab-df-quickchart {\n",
              "      --bg-color: #E8F0FE;\n",
              "      --fill-color: #1967D2;\n",
              "      --hover-bg-color: #E2EBFA;\n",
              "      --hover-fill-color: #174EA6;\n",
              "      --disabled-fill-color: #AAA;\n",
              "      --disabled-bg-color: #DDD;\n",
              "  }\n",
              "\n",
              "  [theme=dark] .colab-df-quickchart {\n",
              "      --bg-color: #3B4455;\n",
              "      --fill-color: #D2E3FC;\n",
              "      --hover-bg-color: #434B5C;\n",
              "      --hover-fill-color: #FFFFFF;\n",
              "      --disabled-bg-color: #3B4455;\n",
              "      --disabled-fill-color: #666;\n",
              "  }\n",
              "\n",
              "  .colab-df-quickchart {\n",
              "    background-color: var(--bg-color);\n",
              "    border: none;\n",
              "    border-radius: 50%;\n",
              "    cursor: pointer;\n",
              "    display: none;\n",
              "    fill: var(--fill-color);\n",
              "    height: 32px;\n",
              "    padding: 0;\n",
              "    width: 32px;\n",
              "  }\n",
              "\n",
              "  .colab-df-quickchart:hover {\n",
              "    background-color: var(--hover-bg-color);\n",
              "    box-shadow: 0 1px 2px rgba(60, 64, 67, 0.3), 0 1px 3px 1px rgba(60, 64, 67, 0.15);\n",
              "    fill: var(--button-hover-fill-color);\n",
              "  }\n",
              "\n",
              "  .colab-df-quickchart-complete:disabled,\n",
              "  .colab-df-quickchart-complete:disabled:hover {\n",
              "    background-color: var(--disabled-bg-color);\n",
              "    fill: var(--disabled-fill-color);\n",
              "    box-shadow: none;\n",
              "  }\n",
              "\n",
              "  .colab-df-spinner {\n",
              "    border: 2px solid var(--fill-color);\n",
              "    border-color: transparent;\n",
              "    border-bottom-color: var(--fill-color);\n",
              "    animation:\n",
              "      spin 1s steps(1) infinite;\n",
              "  }\n",
              "\n",
              "  @keyframes spin {\n",
              "    0% {\n",
              "      border-color: transparent;\n",
              "      border-bottom-color: var(--fill-color);\n",
              "      border-left-color: var(--fill-color);\n",
              "    }\n",
              "    20% {\n",
              "      border-color: transparent;\n",
              "      border-left-color: var(--fill-color);\n",
              "      border-top-color: var(--fill-color);\n",
              "    }\n",
              "    30% {\n",
              "      border-color: transparent;\n",
              "      border-left-color: var(--fill-color);\n",
              "      border-top-color: var(--fill-color);\n",
              "      border-right-color: var(--fill-color);\n",
              "    }\n",
              "    40% {\n",
              "      border-color: transparent;\n",
              "      border-right-color: var(--fill-color);\n",
              "      border-top-color: var(--fill-color);\n",
              "    }\n",
              "    60% {\n",
              "      border-color: transparent;\n",
              "      border-right-color: var(--fill-color);\n",
              "    }\n",
              "    80% {\n",
              "      border-color: transparent;\n",
              "      border-right-color: var(--fill-color);\n",
              "      border-bottom-color: var(--fill-color);\n",
              "    }\n",
              "    90% {\n",
              "      border-color: transparent;\n",
              "      border-bottom-color: var(--fill-color);\n",
              "    }\n",
              "  }\n",
              "</style>\n",
              "\n",
              "  <script>\n",
              "    async function quickchart(key) {\n",
              "      const quickchartButtonEl =\n",
              "        document.querySelector('#' + key + ' button');\n",
              "      quickchartButtonEl.disabled = true;  // To prevent multiple clicks.\n",
              "      quickchartButtonEl.classList.add('colab-df-spinner');\n",
              "      try {\n",
              "        const charts = await google.colab.kernel.invokeFunction(\n",
              "            'suggestCharts', [key], {});\n",
              "      } catch (error) {\n",
              "        console.error('Error during call to suggestCharts:', error);\n",
              "      }\n",
              "      quickchartButtonEl.classList.remove('colab-df-spinner');\n",
              "      quickchartButtonEl.classList.add('colab-df-quickchart-complete');\n",
              "    }\n",
              "    (() => {\n",
              "      let quickchartButtonEl =\n",
              "        document.querySelector('#df-0cb15031-c321-4871-b9f5-03cbcfc1640a button');\n",
              "      quickchartButtonEl.style.display =\n",
              "        google.colab.kernel.accessAllowed ? 'block' : 'none';\n",
              "    })();\n",
              "  </script>\n",
              "</div>\n",
              "    </div>\n",
              "  </div>\n"
            ]
          },
          "metadata": {},
          "execution_count": 2
        }
      ]
    },
    {
      "cell_type": "code",
      "source": [
        "#check for missing values\n",
        "df.isnull().sum()"
      ],
      "metadata": {
        "colab": {
          "base_uri": "https://localhost:8080/"
        },
        "id": "z5lhMza2AmFN",
        "outputId": "abae1ec4-72bd-416a-bcbb-a02b03652a6e"
      },
      "execution_count": null,
      "outputs": [
        {
          "output_type": "execute_result",
          "data": {
            "text/plain": [
              "Room Area (sq. ft.)                         0\n",
              "Number of Appliances                        0\n",
              "Outside Temperature (C)                     0\n",
              "Insulation Thickness (inches)               0\n",
              "Building Type                               0\n",
              "HVAC System                                 0\n",
              "Average Temperature in last 24 hours (C)    0\n",
              "Energy Consumption (kWh)                    0\n",
              "dtype: int64"
            ]
          },
          "metadata": {},
          "execution_count": 3
        }
      ]
    },
    {
      "cell_type": "markdown",
      "source": [
        "# Data Exploration & Visualization"
      ],
      "metadata": {
        "id": "AEChh1rFCMM-"
      }
    },
    {
      "cell_type": "code",
      "source": [
        "#calculate the correlations\n",
        "correlations = df.corr()\n",
        "correlations_to_target = correlations['Energy Consumption (kWh)']\n",
        "correlations_to_target"
      ],
      "metadata": {
        "colab": {
          "base_uri": "https://localhost:8080/"
        },
        "id": "mDixElGXBIAO",
        "outputId": "cabd28e0-cc11-4261-f32a-2c0ba0dad94b"
      },
      "execution_count": null,
      "outputs": [
        {
          "output_type": "stream",
          "name": "stderr",
          "text": [
            "<ipython-input-7-88ee3281512d>:2: FutureWarning: The default value of numeric_only in DataFrame.corr is deprecated. In a future version, it will default to False. Select only valid columns or specify the value of numeric_only to silence this warning.\n",
            "  correlations = df.corr()\n"
          ]
        },
        {
          "output_type": "execute_result",
          "data": {
            "text/plain": [
              "Room Area (sq. ft.)                         0.039561\n",
              "Number of Appliances                        0.956444\n",
              "Outside Temperature (C)                    -0.654513\n",
              "Insulation Thickness (inches)              -0.979500\n",
              "Average Temperature in last 24 hours (C)   -0.656186\n",
              "Energy Consumption (kWh)                    1.000000\n",
              "Name: Energy Consumption (kWh), dtype: float64"
            ]
          },
          "metadata": {},
          "execution_count": 7
        }
      ]
    },
    {
      "cell_type": "code",
      "source": [
        "df.corr()"
      ],
      "metadata": {
        "colab": {
          "base_uri": "https://localhost:8080/",
          "height": 328
        },
        "id": "N-TsedufCXa7",
        "outputId": "985d27cb-a6b8-43e8-d3aa-e0f5134d2c6f"
      },
      "execution_count": null,
      "outputs": [
        {
          "output_type": "stream",
          "name": "stderr",
          "text": [
            "<ipython-input-9-2f6f6606aa2c>:1: FutureWarning: The default value of numeric_only in DataFrame.corr is deprecated. In a future version, it will default to False. Select only valid columns or specify the value of numeric_only to silence this warning.\n",
            "  df.corr()\n"
          ]
        },
        {
          "output_type": "execute_result",
          "data": {
            "text/plain": [
              "                                          Room Area (sq. ft.)  \\\n",
              "Room Area (sq. ft.)                                  1.000000   \n",
              "Number of Appliances                                 0.056081   \n",
              "Outside Temperature (C)                              0.026742   \n",
              "Insulation Thickness (inches)                       -0.055989   \n",
              "Average Temperature in last 24 hours (C)             0.032260   \n",
              "Energy Consumption (kWh)                             0.039561   \n",
              "\n",
              "                                          Number of Appliances  \\\n",
              "Room Area (sq. ft.)                                   0.056081   \n",
              "Number of Appliances                                  1.000000   \n",
              "Outside Temperature (C)                              -0.514895   \n",
              "Insulation Thickness (inches)                        -0.981021   \n",
              "Average Temperature in last 24 hours (C)             -0.517361   \n",
              "Energy Consumption (kWh)                              0.956444   \n",
              "\n",
              "                                          Outside Temperature (C)  \\\n",
              "Room Area (sq. ft.)                                      0.026742   \n",
              "Number of Appliances                                    -0.514895   \n",
              "Outside Temperature (C)                                  1.000000   \n",
              "Insulation Thickness (inches)                            0.545982   \n",
              "Average Temperature in last 24 hours (C)                 0.992592   \n",
              "Energy Consumption (kWh)                                -0.654513   \n",
              "\n",
              "                                          Insulation Thickness (inches)  \\\n",
              "Room Area (sq. ft.)                                           -0.055989   \n",
              "Number of Appliances                                          -0.981021   \n",
              "Outside Temperature (C)                                        0.545982   \n",
              "Insulation Thickness (inches)                                  1.000000   \n",
              "Average Temperature in last 24 hours (C)                       0.553828   \n",
              "Energy Consumption (kWh)                                      -0.979500   \n",
              "\n",
              "                                          Average Temperature in last 24 hours (C)  \\\n",
              "Room Area (sq. ft.)                                                       0.032260   \n",
              "Number of Appliances                                                     -0.517361   \n",
              "Outside Temperature (C)                                                   0.992592   \n",
              "Insulation Thickness (inches)                                             0.553828   \n",
              "Average Temperature in last 24 hours (C)                                  1.000000   \n",
              "Energy Consumption (kWh)                                                 -0.656186   \n",
              "\n",
              "                                          Energy Consumption (kWh)  \n",
              "Room Area (sq. ft.)                                       0.039561  \n",
              "Number of Appliances                                      0.956444  \n",
              "Outside Temperature (C)                                  -0.654513  \n",
              "Insulation Thickness (inches)                            -0.979500  \n",
              "Average Temperature in last 24 hours (C)                 -0.656186  \n",
              "Energy Consumption (kWh)                                  1.000000  "
            ],
            "text/html": [
              "\n",
              "  <div id=\"df-b7d6f484-84fb-4191-b6d0-a98b673876ed\" class=\"colab-df-container\">\n",
              "    <div>\n",
              "<style scoped>\n",
              "    .dataframe tbody tr th:only-of-type {\n",
              "        vertical-align: middle;\n",
              "    }\n",
              "\n",
              "    .dataframe tbody tr th {\n",
              "        vertical-align: top;\n",
              "    }\n",
              "\n",
              "    .dataframe thead th {\n",
              "        text-align: right;\n",
              "    }\n",
              "</style>\n",
              "<table border=\"1\" class=\"dataframe\">\n",
              "  <thead>\n",
              "    <tr style=\"text-align: right;\">\n",
              "      <th></th>\n",
              "      <th>Room Area (sq. ft.)</th>\n",
              "      <th>Number of Appliances</th>\n",
              "      <th>Outside Temperature (C)</th>\n",
              "      <th>Insulation Thickness (inches)</th>\n",
              "      <th>Average Temperature in last 24 hours (C)</th>\n",
              "      <th>Energy Consumption (kWh)</th>\n",
              "    </tr>\n",
              "  </thead>\n",
              "  <tbody>\n",
              "    <tr>\n",
              "      <th>Room Area (sq. ft.)</th>\n",
              "      <td>1.000000</td>\n",
              "      <td>0.056081</td>\n",
              "      <td>0.026742</td>\n",
              "      <td>-0.055989</td>\n",
              "      <td>0.032260</td>\n",
              "      <td>0.039561</td>\n",
              "    </tr>\n",
              "    <tr>\n",
              "      <th>Number of Appliances</th>\n",
              "      <td>0.056081</td>\n",
              "      <td>1.000000</td>\n",
              "      <td>-0.514895</td>\n",
              "      <td>-0.981021</td>\n",
              "      <td>-0.517361</td>\n",
              "      <td>0.956444</td>\n",
              "    </tr>\n",
              "    <tr>\n",
              "      <th>Outside Temperature (C)</th>\n",
              "      <td>0.026742</td>\n",
              "      <td>-0.514895</td>\n",
              "      <td>1.000000</td>\n",
              "      <td>0.545982</td>\n",
              "      <td>0.992592</td>\n",
              "      <td>-0.654513</td>\n",
              "    </tr>\n",
              "    <tr>\n",
              "      <th>Insulation Thickness (inches)</th>\n",
              "      <td>-0.055989</td>\n",
              "      <td>-0.981021</td>\n",
              "      <td>0.545982</td>\n",
              "      <td>1.000000</td>\n",
              "      <td>0.553828</td>\n",
              "      <td>-0.979500</td>\n",
              "    </tr>\n",
              "    <tr>\n",
              "      <th>Average Temperature in last 24 hours (C)</th>\n",
              "      <td>0.032260</td>\n",
              "      <td>-0.517361</td>\n",
              "      <td>0.992592</td>\n",
              "      <td>0.553828</td>\n",
              "      <td>1.000000</td>\n",
              "      <td>-0.656186</td>\n",
              "    </tr>\n",
              "    <tr>\n",
              "      <th>Energy Consumption (kWh)</th>\n",
              "      <td>0.039561</td>\n",
              "      <td>0.956444</td>\n",
              "      <td>-0.654513</td>\n",
              "      <td>-0.979500</td>\n",
              "      <td>-0.656186</td>\n",
              "      <td>1.000000</td>\n",
              "    </tr>\n",
              "  </tbody>\n",
              "</table>\n",
              "</div>\n",
              "    <div class=\"colab-df-buttons\">\n",
              "\n",
              "  <div class=\"colab-df-container\">\n",
              "    <button class=\"colab-df-convert\" onclick=\"convertToInteractive('df-b7d6f484-84fb-4191-b6d0-a98b673876ed')\"\n",
              "            title=\"Convert this dataframe to an interactive table.\"\n",
              "            style=\"display:none;\">\n",
              "\n",
              "  <svg xmlns=\"http://www.w3.org/2000/svg\" height=\"24px\" viewBox=\"0 -960 960 960\">\n",
              "    <path d=\"M120-120v-720h720v720H120Zm60-500h600v-160H180v160Zm220 220h160v-160H400v160Zm0 220h160v-160H400v160ZM180-400h160v-160H180v160Zm440 0h160v-160H620v160ZM180-180h160v-160H180v160Zm440 0h160v-160H620v160Z\"/>\n",
              "  </svg>\n",
              "    </button>\n",
              "\n",
              "  <style>\n",
              "    .colab-df-container {\n",
              "      display:flex;\n",
              "      gap: 12px;\n",
              "    }\n",
              "\n",
              "    .colab-df-convert {\n",
              "      background-color: #E8F0FE;\n",
              "      border: none;\n",
              "      border-radius: 50%;\n",
              "      cursor: pointer;\n",
              "      display: none;\n",
              "      fill: #1967D2;\n",
              "      height: 32px;\n",
              "      padding: 0 0 0 0;\n",
              "      width: 32px;\n",
              "    }\n",
              "\n",
              "    .colab-df-convert:hover {\n",
              "      background-color: #E2EBFA;\n",
              "      box-shadow: 0px 1px 2px rgba(60, 64, 67, 0.3), 0px 1px 3px 1px rgba(60, 64, 67, 0.15);\n",
              "      fill: #174EA6;\n",
              "    }\n",
              "\n",
              "    .colab-df-buttons div {\n",
              "      margin-bottom: 4px;\n",
              "    }\n",
              "\n",
              "    [theme=dark] .colab-df-convert {\n",
              "      background-color: #3B4455;\n",
              "      fill: #D2E3FC;\n",
              "    }\n",
              "\n",
              "    [theme=dark] .colab-df-convert:hover {\n",
              "      background-color: #434B5C;\n",
              "      box-shadow: 0px 1px 3px 1px rgba(0, 0, 0, 0.15);\n",
              "      filter: drop-shadow(0px 1px 2px rgba(0, 0, 0, 0.3));\n",
              "      fill: #FFFFFF;\n",
              "    }\n",
              "  </style>\n",
              "\n",
              "    <script>\n",
              "      const buttonEl =\n",
              "        document.querySelector('#df-b7d6f484-84fb-4191-b6d0-a98b673876ed button.colab-df-convert');\n",
              "      buttonEl.style.display =\n",
              "        google.colab.kernel.accessAllowed ? 'block' : 'none';\n",
              "\n",
              "      async function convertToInteractive(key) {\n",
              "        const element = document.querySelector('#df-b7d6f484-84fb-4191-b6d0-a98b673876ed');\n",
              "        const dataTable =\n",
              "          await google.colab.kernel.invokeFunction('convertToInteractive',\n",
              "                                                    [key], {});\n",
              "        if (!dataTable) return;\n",
              "\n",
              "        const docLinkHtml = 'Like what you see? Visit the ' +\n",
              "          '<a target=\"_blank\" href=https://colab.research.google.com/notebooks/data_table.ipynb>data table notebook</a>'\n",
              "          + ' to learn more about interactive tables.';\n",
              "        element.innerHTML = '';\n",
              "        dataTable['output_type'] = 'display_data';\n",
              "        await google.colab.output.renderOutput(dataTable, element);\n",
              "        const docLink = document.createElement('div');\n",
              "        docLink.innerHTML = docLinkHtml;\n",
              "        element.appendChild(docLink);\n",
              "      }\n",
              "    </script>\n",
              "  </div>\n",
              "\n",
              "\n",
              "<div id=\"df-77edaed4-4a90-498a-bd37-d2b32aa38e70\">\n",
              "  <button class=\"colab-df-quickchart\" onclick=\"quickchart('df-77edaed4-4a90-498a-bd37-d2b32aa38e70')\"\n",
              "            title=\"Suggest charts.\"\n",
              "            style=\"display:none;\">\n",
              "\n",
              "<svg xmlns=\"http://www.w3.org/2000/svg\" height=\"24px\"viewBox=\"0 0 24 24\"\n",
              "     width=\"24px\">\n",
              "    <g>\n",
              "        <path d=\"M19 3H5c-1.1 0-2 .9-2 2v14c0 1.1.9 2 2 2h14c1.1 0 2-.9 2-2V5c0-1.1-.9-2-2-2zM9 17H7v-7h2v7zm4 0h-2V7h2v10zm4 0h-2v-4h2v4z\"/>\n",
              "    </g>\n",
              "</svg>\n",
              "  </button>\n",
              "\n",
              "<style>\n",
              "  .colab-df-quickchart {\n",
              "      --bg-color: #E8F0FE;\n",
              "      --fill-color: #1967D2;\n",
              "      --hover-bg-color: #E2EBFA;\n",
              "      --hover-fill-color: #174EA6;\n",
              "      --disabled-fill-color: #AAA;\n",
              "      --disabled-bg-color: #DDD;\n",
              "  }\n",
              "\n",
              "  [theme=dark] .colab-df-quickchart {\n",
              "      --bg-color: #3B4455;\n",
              "      --fill-color: #D2E3FC;\n",
              "      --hover-bg-color: #434B5C;\n",
              "      --hover-fill-color: #FFFFFF;\n",
              "      --disabled-bg-color: #3B4455;\n",
              "      --disabled-fill-color: #666;\n",
              "  }\n",
              "\n",
              "  .colab-df-quickchart {\n",
              "    background-color: var(--bg-color);\n",
              "    border: none;\n",
              "    border-radius: 50%;\n",
              "    cursor: pointer;\n",
              "    display: none;\n",
              "    fill: var(--fill-color);\n",
              "    height: 32px;\n",
              "    padding: 0;\n",
              "    width: 32px;\n",
              "  }\n",
              "\n",
              "  .colab-df-quickchart:hover {\n",
              "    background-color: var(--hover-bg-color);\n",
              "    box-shadow: 0 1px 2px rgba(60, 64, 67, 0.3), 0 1px 3px 1px rgba(60, 64, 67, 0.15);\n",
              "    fill: var(--button-hover-fill-color);\n",
              "  }\n",
              "\n",
              "  .colab-df-quickchart-complete:disabled,\n",
              "  .colab-df-quickchart-complete:disabled:hover {\n",
              "    background-color: var(--disabled-bg-color);\n",
              "    fill: var(--disabled-fill-color);\n",
              "    box-shadow: none;\n",
              "  }\n",
              "\n",
              "  .colab-df-spinner {\n",
              "    border: 2px solid var(--fill-color);\n",
              "    border-color: transparent;\n",
              "    border-bottom-color: var(--fill-color);\n",
              "    animation:\n",
              "      spin 1s steps(1) infinite;\n",
              "  }\n",
              "\n",
              "  @keyframes spin {\n",
              "    0% {\n",
              "      border-color: transparent;\n",
              "      border-bottom-color: var(--fill-color);\n",
              "      border-left-color: var(--fill-color);\n",
              "    }\n",
              "    20% {\n",
              "      border-color: transparent;\n",
              "      border-left-color: var(--fill-color);\n",
              "      border-top-color: var(--fill-color);\n",
              "    }\n",
              "    30% {\n",
              "      border-color: transparent;\n",
              "      border-left-color: var(--fill-color);\n",
              "      border-top-color: var(--fill-color);\n",
              "      border-right-color: var(--fill-color);\n",
              "    }\n",
              "    40% {\n",
              "      border-color: transparent;\n",
              "      border-right-color: var(--fill-color);\n",
              "      border-top-color: var(--fill-color);\n",
              "    }\n",
              "    60% {\n",
              "      border-color: transparent;\n",
              "      border-right-color: var(--fill-color);\n",
              "    }\n",
              "    80% {\n",
              "      border-color: transparent;\n",
              "      border-right-color: var(--fill-color);\n",
              "      border-bottom-color: var(--fill-color);\n",
              "    }\n",
              "    90% {\n",
              "      border-color: transparent;\n",
              "      border-bottom-color: var(--fill-color);\n",
              "    }\n",
              "  }\n",
              "</style>\n",
              "\n",
              "  <script>\n",
              "    async function quickchart(key) {\n",
              "      const quickchartButtonEl =\n",
              "        document.querySelector('#' + key + ' button');\n",
              "      quickchartButtonEl.disabled = true;  // To prevent multiple clicks.\n",
              "      quickchartButtonEl.classList.add('colab-df-spinner');\n",
              "      try {\n",
              "        const charts = await google.colab.kernel.invokeFunction(\n",
              "            'suggestCharts', [key], {});\n",
              "      } catch (error) {\n",
              "        console.error('Error during call to suggestCharts:', error);\n",
              "      }\n",
              "      quickchartButtonEl.classList.remove('colab-df-spinner');\n",
              "      quickchartButtonEl.classList.add('colab-df-quickchart-complete');\n",
              "    }\n",
              "    (() => {\n",
              "      let quickchartButtonEl =\n",
              "        document.querySelector('#df-77edaed4-4a90-498a-bd37-d2b32aa38e70 button');\n",
              "      quickchartButtonEl.style.display =\n",
              "        google.colab.kernel.accessAllowed ? 'block' : 'none';\n",
              "    })();\n",
              "  </script>\n",
              "</div>\n",
              "    </div>\n",
              "  </div>\n"
            ]
          },
          "metadata": {},
          "execution_count": 9
        }
      ]
    },
    {
      "cell_type": "code",
      "source": [
        "#Outside Temperature vs. Energy Consumption\n",
        "sns.scatterplot(data=df, x='Outside Temperature (C)', y='Energy Consumption (kWh)')\n",
        "plt.title('Outside Temperature vs. Energy Consumption')\n",
        "plt.show()\n"
      ],
      "metadata": {
        "colab": {
          "base_uri": "https://localhost:8080/",
          "height": 472
        },
        "id": "hQn5LHONCoPR",
        "outputId": "0cba3cde-e00e-4342-ce0a-56037348cd9d"
      },
      "execution_count": null,
      "outputs": [
        {
          "output_type": "display_data",
          "data": {
            "text/plain": [
              "<Figure size 640x480 with 1 Axes>"
            ],
            "image/png": "[encoded data removed]"
          },
          "metadata": {}
        }
      ]
    },
    {
      "cell_type": "code",
      "source": [
        "#Building Type vs. Energy Consumption\n",
        "sns.barplot(data=df, x='Building Type', y='Energy Consumption (kWh)')\n",
        "plt.title('Building Type vs. Energy Consumption')\n",
        "plt.show()"
      ],
      "metadata": {
        "colab": {
          "base_uri": "https://localhost:8080/",
          "height": 472
        },
        "id": "_gj5tI5wDlcT",
        "outputId": "9fca8a59-c218-4598-8cea-a64a6110b456"
      },
      "execution_count": null,
      "outputs": [
        {
          "output_type": "display_data",
          "data": {
            "text/plain": [
              "<Figure size 640x480 with 1 Axes>"
            ],
            "image/png": "[encoded data removed]"
          },
          "metadata": {}
        }
      ]
    },
    {
      "cell_type": "code",
      "source": [
        "#HVAC System vs. Energy Consumption\n",
        "sns.boxplot(data=df, x='HVAC System', y='Energy Consumption (kWh)')\n",
        "plt.title('HVAC System vs. Energy Consumption')\n",
        "plt.show()"
      ],
      "metadata": {
        "colab": {
          "base_uri": "https://localhost:8080/",
          "height": 472
        },
        "id": "_Ur7G6yxDsPq",
        "outputId": "0995720c-11d2-4f93-e7ba-3f7a98fa86c3"
      },
      "execution_count": null,
      "outputs": [
        {
          "output_type": "display_data",
          "data": {
            "text/plain": [
              "<Figure size 640x480 with 1 Axes>"
            ],
            "image/png": "[encoded data removed]"
          },
          "metadata": {}
        }
      ]
    },
    {
      "cell_type": "markdown",
      "source": [
        "#Model Building"
      ],
      "metadata": {
        "id": "ci-gmY55EF1P"
      }
    },
    {
      "cell_type": "code",
      "source": [
        "from sklearn.model_selection import train_test_split\n",
        "from sklearn.ensemble import RandomForestRegressor\n",
        "from sklearn.metrics import mean_absolute_error, mean_squared_error, r2_score"
      ],
      "metadata": {
        "id": "ePFeM8qnFKN-"
      },
      "execution_count": null,
      "outputs": []
    },
    {
      "cell_type": "code",
      "source": [
        "#data encoding\n",
        "df = pd.get_dummies(df, columns=['Building Type', 'HVAC System'])\n",
        "\n",
        "#data splitting\n",
        "X = df.drop(columns=['Energy Consumption (kWh)'])\n",
        "y = df['Energy Consumption (kWh)']"
      ],
      "metadata": {
        "id": "uJmFkZhPDyYh"
      },
      "execution_count": null,
      "outputs": []
    },
    {
      "cell_type": "code",
      "source": [
        "#split the dataset into a training set and a testing set (80 % training and 20% testing)\n",
        "X_train, X_test, y_train, y_test = train_test_split(X, y, test_size=0.2, random_state=42)\n",
        "\n",
        "#model training\n",
        "model = RandomForestRegressor(n_estimators=100, random_state=42)\n",
        "model.fit(X_train, y_train)\n",
        "\n",
        "#predictions on the test set\n",
        "y_pred = model.predict(X_test)\n",
        "\n",
        "#model evaluation\n",
        "mae = mean_absolute_error(y_test, y_pred)\n",
        "mse = mean_squared_error(y_test, y_pred)\n",
        "rmse = mean_squared_error(y_test, y_pred, squared=False)\n",
        "r2 = r2_score(y_test, y_pred)\n",
        "\n",
        "print(f'Mean Absolute Error: {mae}')\n",
        "print(f'Mean Squared Error: {mse}')\n",
        "print(f'Root Mean Squared Error: {rmse}')\n",
        "print(f'R-squared: {r2}')"
      ],
      "metadata": {
        "colab": {
          "base_uri": "https://localhost:8080/"
        },
        "id": "31lpv1ezEMaw",
        "outputId": "96368096-dbfe-4cdb-d394-5471ebde6d75"
      },
      "execution_count": null,
      "outputs": [
        {
          "output_type": "stream",
          "name": "stdout",
          "text": [
            "Mean Absolute Error: 7.6111111111111045\n",
            "Mean Squared Error: 67.95666666666655\n",
            "Root Mean Squared Error: 8.243583363238741\n",
            "R-squared: 0.9569961718750001\n"
          ]
        }
      ]
    },
    {
      "cell_type": "markdown",
      "source": [
        "***Required Analysis*** </br></br>\n",
        "a) Determine the primary feature influencing energy consumption prediction? What about the\n",
        "secondary feature? Explain the reasons behind their significance."
      ],
      "metadata": {
        "id": "Dl1diUzeH6XO"
      }
    },
    {
      "cell_type": "code",
      "source": [
        "correlations_to_target = correlations['Energy Consumption (kWh)']\n",
        "primary_feature = correlations_to_target.idxmax()\n",
        "correlation_value = correlations_to_target.max()\n",
        "\n",
        "print(f\"The primary feature influencing energy consumption prediction is '{primary_feature}' with a correlation value of {correlation_value:.2f}\")\n"
      ],
      "metadata": {
        "colab": {
          "base_uri": "https://localhost:8080/"
        },
        "id": "cwOLYlipF5Z9",
        "outputId": "cf0812a6-aa85-4274-acc5-f3757be50c1f"
      },
      "execution_count": null,
      "outputs": [
        {
          "output_type": "stream",
          "name": "stdout",
          "text": [
            "The primary feature influencing energy consumption prediction is 'Energy Consumption (kWh)' with a correlation value of 1.00\n"
          ]
        }
      ]
    },
    {
      "cell_type": "code",
      "source": [
        "sorted_correlations = correlations_to_target.abs().sort_values(ascending=False)\n",
        "secondary_feature = sorted_correlations.index[1]\n",
        "correlation_value_secondary = sorted_correlations.iloc[1]\n",
        "\n",
        "print(f\"The secondary feature influencing energy consumption prediction is '{secondary_feature}' with a correlation value of {correlation_value_secondary:.2f}\")\n"
      ],
      "metadata": {
        "colab": {
          "base_uri": "https://localhost:8080/"
        },
        "id": "U_WgGkZrILhF",
        "outputId": "9d22a2d8-7b2d-4259-b6e3-679efbdadaaa"
      },
      "execution_count": null,
      "outputs": [
        {
          "output_type": "stream",
          "name": "stdout",
          "text": [
            "The secondary feature influencing energy consumption prediction is 'Insulation Thickness (inches)' with a correlation value of 0.98\n"
          ]
        }
      ]
    },
    {
      "cell_type": "markdown",
      "source": [
        "Insulation thickness has a high positive correlation (0.98) with energy consumption. This means that buildings with thicker insulation tend to have higher energy consumption. The reason for this is that thicker insulation generally indicates better thermal insulation, which can keep the interior of the building better protected from outdoor temperature variations. However, this can also mean that in areas with extreme temperature variations, buildings with thicker insulation might use more energy to regulate the indoor temperature, resulting in higher energy consumption."
      ],
      "metadata": {
        "id": "mBH1XlrmJKwm"
      }
    },
    {
      "cell_type": "markdown",
      "source": [
        "To identify the secondary feature, you need to determine which feature, other than 'Insulation Thickness (inches)' and 'Energy Consumption (kWh),' has the next highest absolute correlation with energy consumption. This could be a different characteristic or attribute that also has a significant influence on energy consumption in the context of your dataset. The exact secondary feature will depend on the data and the correlation values."
      ],
      "metadata": {
        "id": "At8EFWw6JTc1"
      }
    },
    {
      "cell_type": "markdown",
      "source": [
        "**b) Identify any feature that may not contribute significantly to prediction accuracy. What is\n",
        "your mitigation strategy? If no such feature found, provide justification for your claim**"
      ],
      "metadata": {
        "id": "fE4eTrbPK-IZ"
      }
    },
    {
      "cell_type": "code",
      "source": [
        "importances = model.feature_importances_\n",
        "feature_names = X_train.columns\n",
        "feature_importance = pd.DataFrame({'Feature': feature_names, 'Importance': importances})\n",
        "feature_importance = feature_importance.sort_values(by='Importance', ascending=False)\n",
        "print(feature_importance)"
      ],
      "metadata": {
        "colab": {
          "base_uri": "https://localhost:8080/"
        },
        "id": "5_AifqMuIkvb",
        "outputId": "7e3707ff-8ad8-4ecb-9c9b-067e3e8e4077"
      },
      "execution_count": null,
      "outputs": [
        {
          "output_type": "stream",
          "name": "stdout",
          "text": [
            "                                    Feature  Importance\n",
            "3             Insulation Thickness (inches)    0.560311\n",
            "1                      Number of Appliances    0.299890\n",
            "4  Average Temperature in last 24 hours (C)    0.072263\n",
            "2                   Outside Temperature (C)    0.057490\n",
            "8                     HVAC System_ Split AC    0.004415\n",
            "0                       Room Area (sq. ft.)    0.002799\n",
            "7                   HVAC System_ Central AC    0.001209\n",
            "9                    HVAC System_ Window AC    0.000832\n",
            "5                 Building Type_ Commercial    0.000416\n",
            "6                Building Type_ Residential    0.000376\n"
          ]
        }
      ]
    },
    {
      "cell_type": "markdown",
      "source": [
        "Mitigation strategies can include:\n",
        "\n",
        "*   Removing features with low importance: Features such as 'Building Type' and 'HVAC System' (after one-hot encoding) have very low importance scores (close to zero). You can consider removing these features from your model as they appear to have minimal impact on prediction accuracy.\n",
        "*   Further analysis: Before removing any features, it's a good practice to conduct further analysis or validation. You might want to explore why certain features have low importance. It could be due to data quality issues, a lack of variance in the feature, or a true lack of relevance to the prediction task. Investigate whether these features have any domain-specific significance.\n",
        "*   Domain knowledge consultation: Consult with domain experts or stakeholders to get their input on the relevance of these low-importance features. In some cases, domain knowledge might reveal that seemingly unimportant features are essential in specific contexts."
      ],
      "metadata": {
        "id": "fSjwuKqWLV5T"
      }
    },
    {
      "cell_type": "markdown",
      "source": [
        "**c) Apply multiple linear regression to build a prediction model for energy consumption (y)\n",
        "based on the features. Feel free to modify the dataset to enhance prediction accuracy. Use\n",
        "the model to predict energy consumption for point1, point2, and point3:</br></br>\n",
        "point 1: Room Area (sq. ft.): 279, Number of Appliances: 16, Outside Temperature (°C): 20,\n",
        "Insulation Thickness (inches): 1.7, Building Type: Residential, HVAC System: Central AC,\n",
        "Average Temperature in last 24 hours (°C): 19, Energy Consumption (kWh): 385</br></br>\n",
        "point 2: Room Area (sq. ft.): 277, Number of Appliances: 22, Outside Temperature (°C): 15,\n",
        "Insulation Thickness (inches): 1.5, Building Type: Commercial, HVAC System: Split AC,\n",
        "Average Temperature in last 24 hours (°C): 14, Energy Consumption (kWh): 425</br></br>\n",
        "point 3: Room Area (sq. ft.): 276, Number of Appliances: 14, Outside Temperature (°C): 25,\n",
        "Insulation Thickness (inches): 2.2, Building Type: Residential, HVAC System: Window AC,\n",
        "Average Temperature in last 24 hours (°C): 26, Energy Consumption (kWh): 350**"
      ],
      "metadata": {
        "id": "hZIc4B-LNBwj"
      }
    },
    {
      "cell_type": "code",
      "source": [
        "from sklearn.model_selection import train_test_split\n",
        "from sklearn.linear_model import LinearRegression\n",
        "from sklearn.metrics import mean_absolute_error, mean_squared_error, r2_score"
      ],
      "metadata": {
        "id": "QGGBhB-tK8o4"
      },
      "execution_count": null,
      "outputs": []
    },
    {
      "cell_type": "code",
      "source": [
        "model_2_df = pd.read_csv('/content/Dataset.csv')\n",
        "\n",
        "#data encoding\n",
        "model_2_df = pd.get_dummies(model_2_df, columns=['Building Type', 'HVAC System'])\n",
        "\n",
        "#data splitting\n",
        "X = model_2_df.drop(columns=['Energy Consumption (kWh)'])\n",
        "y = model_2_df['Energy Consumption (kWh)']\n",
        "\n",
        "#split the dataset into a training set and a testing set (80 % training and 20% testing)\n",
        "X_train, X_test, y_train, y_test = train_test_split(X, y, test_size=0.2, random_state=42)\n",
        "\n",
        "#multiple linear regression model training\n",
        "model2 = LinearRegression()\n",
        "model2.fit(X_train, y_train)\n",
        "\n",
        "#model evaluation on test data\n",
        "y_pred = model2.predict(X_test)\n",
        "\n",
        "mae = mean_absolute_error(y_test, y_pred)\n",
        "mse = mean_squared_error(y_test, y_pred)\n",
        "rmse = mean_squared_error(y_test, y_pred, squared=False)\n",
        "r2 = r2_score(y_test, y_pred)\n",
        "\n",
        "print(\"Model Evaluation:\")\n",
        "print(f'Mean Absolute Error: {mae}')\n",
        "print(f'Mean Squared Error: {mse}')\n",
        "print(f'Root Mean Squared Error: {rmse}')\n",
        "print(f'R-squared: {r2}')\n"
      ],
      "metadata": {
        "colab": {
          "base_uri": "https://localhost:8080/"
        },
        "id": "aJuXGS5tNnGd",
        "outputId": "02c3c183-699d-43dc-ec44-ba13de18c500"
      },
      "execution_count": null,
      "outputs": [
        {
          "output_type": "stream",
          "name": "stdout",
          "text": [
            "Model Evaluation:\n",
            "Mean Absolute Error: 5.15739135200829\n",
            "Mean Squared Error: 39.93309065076179\n",
            "Root Mean Squared Error: 6.3192634579325615\n",
            "R-squared: 0.9747298410725648\n"
          ]
        }
      ]
    },
    {
      "cell_type": "code",
      "source": [
        "#trained model to predict energy consumption for the three points\n",
        "points = [\n",
        "    [279, 16, 20, 1.7, 0, 0, 0, 0, 0, 19],  # point 1\n",
        "    [277, 22, 15, 1.5, 1, 0, 0, 0, 1, 14],  # point 2\n",
        "    [276, 14, 25, 2.2, 0, 1, 0, 1, 0, 26],  # point 3\n",
        "]\n",
        "\n",
        "predicted_energy_consumption = model2.predict(points)\n",
        "\n",
        "for i, point in enumerate(points, 1):\n",
        "    print(f'Predicted Energy Consumption for point {i}: {predicted_energy_consumption[i-1]:.2f} kWh')"
      ],
      "metadata": {
        "colab": {
          "base_uri": "https://localhost:8080/"
        },
        "id": "EQ1-bMGUPJR6",
        "outputId": "f017c345-1f5f-4316-f84c-b5b217a31094"
      },
      "execution_count": null,
      "outputs": [
        {
          "output_type": "stream",
          "name": "stdout",
          "text": [
            "Predicted Energy Consumption for point 1: 397.90 kWh\n",
            "Predicted Energy Consumption for point 2: 421.97 kWh\n",
            "Predicted Energy Consumption for point 3: 332.78 kWh\n"
          ]
        },
        {
          "output_type": "stream",
          "name": "stderr",
          "text": [
            "/usr/local/lib/python3.10/dist-packages/sklearn/base.py:439: UserWarning: X does not have valid feature names, but LinearRegression was fitted with feature names\n",
            "  warnings.warn(\n"
          ]
        }
      ]
    },
    {
      "cell_type": "markdown",
      "source": [
        "**d) Compute the Mean Squared Error (MSE) regression loss using the \"mean_squared_error\"\n",
        "function from “sklearn.metrics” library, for these points:<br/>where y_true is ground truth (correct) target values and y_pred is estimated target values\n",
        "based on the linear regression model. (Note that y_true and y_pred are vectors each\n",
        "containing three values corresponding to point1, point2, point3.)**\n",
        "\n"
      ],
      "metadata": {
        "id": "glnsgeXTPxqx"
      }
    },
    {
      "cell_type": "code",
      "source": [
        "from sklearn.metrics import mean_squared_error\n",
        "y_true = [385, 425, 350]\n",
        "y_pred = [397.90, 421.97, 332.78]\n",
        "mse = mean_squared_error(y_true, y_pred)\n",
        "print(mean_squared_error(y_true, y_pred))"
      ],
      "metadata": {
        "colab": {
          "base_uri": "https://localhost:8080/"
        },
        "id": "mYh-_K9ePhuj",
        "outputId": "36156f37-0d76-4067-deb7-bd6ee4d0fa6d"
      },
      "execution_count": null,
      "outputs": [
        {
          "output_type": "stream",
          "name": "stdout",
          "text": [
            "157.37310000000005\n"
          ]
        }
      ]
    },
    {
      "cell_type": "markdown",
      "source": [
        "**e) Given the following scatter plot of a new feature X with respect to Energy Consumption, recommend whether to include it in the features for prediction. Provide reason.**"
      ],
      "metadata": {
        "id": "HOIAtkaDa9bl"
      }
    },
    {
      "cell_type": "markdown",
      "source": [
        "it is not recomendable to include the new feature X in the features of prediction. The scatter plot shows that the energy consumption of the new feature is significantly higher than the energy consumption of the existing features. This suggests that the new feature is not very energy-efficient, and could potentially increase the overall energy consumption of the system."
      ],
      "metadata": {
        "id": "ajF4Hm9MbDal"
      }
    },
    {
      "cell_type": "markdown",
      "source": [
        "#Question 2 </br>\n",
        "Consider the figure below where data points are divided into two classes, yellow circles and\n",
        "blue squares. Please answer the following questions: </br></br>\n",
        "a) Draw the decision boundary for KNN-algorithm when:</br>\n",
        "   *    K=1</br>\n",
        "   *    K=3</br></br>\n"
      ],
      "metadata": {
        "id": "cX41QuptbWdf"
      }
    },
    {
      "cell_type": "code",
      "source": [
        "import matplotlib.pyplot as plt\n",
        "yellow_circles = [(4, 4), (6, 6)]\n",
        "blue_squares = [(2, 2), (4, 6), (6, 2), (6, 8)]\n",
        "plt.scatter(*zip(*yellow_circles), c='yellow', marker='o', label='Yellow Circles')\n",
        "plt.scatter(*zip(*blue_squares), c='blue', marker='s', label='Blue Squares')\n",
        "plt.plot([2, 6], [2, 6], 'k--', label='Decision Boundary')\n",
        "plt.show()"
      ],
      "metadata": {
        "colab": {
          "base_uri": "https://localhost:8080/",
          "height": 430
        },
        "id": "ZT_OTo7UgmIN",
        "outputId": "f0f5533d-7008-441e-ad76-8c325b091f0c"
      },
      "execution_count": null,
      "outputs": [
        {
          "output_type": "display_data",
          "data": {
            "text/plain": [
              "<Figure size 640x480 with 1 Axes>"
            ],
            "image/png": "[encoded data removed]"
          },
          "metadata": {}
        }
      ]
    },
    {
      "cell_type": "code",
      "source": [
        "#when k=3\n",
        "plt.scatter(*zip(*yellow_circles), c='yellow', marker='o', label='Yellow Circles')\n",
        "plt.scatter(*zip(*blue_squares), c='blue', marker='s', label='Blue Squares')\n",
        "x = np.linspace(0, 8, 100)\n",
        "y = np.linspace(0, 8, 100)\n",
        "X, Y = np.meshgrid(x, y)\n",
        "decision_boundary = ((X - 4)**2 + (Y - 4)**2 - (X - 6)**2 - (Y - 6)**2) <= 0\n",
        "plt.contourf(X, Y, decision_boundary, levels=[0, 1], colors=['blue', 'yellow'], alpha=0.5, label='Decision Boundary')\n",
        "plt.show()"
      ],
      "metadata": {
        "colab": {
          "base_uri": "https://localhost:8080/",
          "height": 471
        },
        "id": "LDdmlm64iIqB",
        "outputId": "446253cd-bb4d-4ba6-b3d7-a91ea028e632"
      },
      "execution_count": null,
      "outputs": [
        {
          "output_type": "stream",
          "name": "stderr",
          "text": [
            "<ipython-input-34-b44a4ac0cf1b>:7: UserWarning: The following kwargs were not used by contour: 'label'\n",
            "  plt.contourf(X, Y, decision_boundary, levels=[0, 1], colors=['blue', 'yellow'], alpha=0.5, label='Decision Boundary')\n"
          ]
        },
        {
          "output_type": "display_data",
          "data": {
            "text/plain": [
              "<Figure size 640x480 with 1 Axes>"
            ],
            "image/png": "[encoded data removed]"
          },
          "metadata": {}
        }
      ]
    },
    {
      "cell_type": "markdown",
      "source": [
        "b) How will the following points be classified by K=1 and K=3 classifiers:<br/>\n",
        "   * point (8, 6)\n",
        "   * point (8, 4)"
      ],
      "metadata": {
        "id": "05airXgWcQ8K"
      }
    },
    {
      "cell_type": "markdown",
      "source": [
        "**K=1 Classifier**:\n",
        "- For K=1, we consider only the single nearest neighbor.\n",
        "\n",
        "1. For point (8, 6):\n",
        "   - The closest point in the training data is (6, 6), which belongs to the \"yellow circles\" class.\n",
        "   - So, point (8, 6) is classified as a \"yellow circle.\"\n",
        "\n",
        "2. For point (8, 4):\n",
        "   - The closest point in the training data is (6, 6), which belongs to the \"yellow circles\" class.\n",
        "   - So, point (8, 4) is also classified as a \"yellow circle.\"\n",
        "\n",
        "**K=3 Classifier**:\n",
        "- For K=3, we consider the three nearest neighbors.\n",
        "\n",
        "1. For point (8, 6):\n",
        "   - The three closest points in the training data are (6, 6), (6, 2), and (6, 8).\n",
        "   - Among these, two belong to the \"yellow circles\" class, and one belongs to the \"blue squares\" class.\n",
        "   - Since there are more \"yellow circles\" among the nearest neighbors, point (8, 6) is classified as a \"yellow circle.\"\n",
        "\n",
        "2. For point (8, 4):\n",
        "   - The three closest points in the training data are (6, 6), (4, 6), and (6, 2).\n",
        "   - Among these, two belong to the \"yellow circles\" class, and one belongs to the \"blue squares\" class.\n",
        "   - Since there are more \"yellow circles\" among the nearest neighbors, point (8, 4) is classified as a \"yellow circle.\"\n"
      ],
      "metadata": {
        "id": "Q60_SVwkkmIg"
      }
    },
    {
      "cell_type": "code",
      "source": [
        "\n"
      ],
      "metadata": {
        "id": "XgHKnUG2RajR"
      },
      "execution_count": null,
      "outputs": []
    }
  ]
}